{
 "cells": [
  {
   "cell_type": "markdown",
   "metadata": {
    "colab_type": "text",
    "id": "view-in-github"
   },
   "source": [
    "<a href=\"https://colab.research.google.com/github/kreshuklab/teaching-dl-course-2019/blob/master/Webinars/exercise2/exercise_cifar_Keras.ipynb\" target=\"_parent\"><img src=\"https://colab.research.google.com/assets/colab-badge.svg\" alt=\"Open In Colab\"/></a>"
   ]
  },
  {
   "cell_type": "markdown",
   "metadata": {
    "colab_type": "text",
    "id": "10TgeswTGLz0"
   },
   "source": [
    "Now you should apply the same principles you've seen in the example Notebook to the [CIFAR10 data](https://www.cs.toronto.edu/~kriz/cifar.html). \n",
    "First of all let's load the libraries."
   ]
  },
  {
   "cell_type": "code",
   "execution_count": 0,
   "metadata": {
    "colab": {},
    "colab_type": "code",
    "id": "DC0coesMGG5N"
   },
   "outputs": [],
   "source": [
    "# to show images directly in the notebook\n",
    "%matplotlib inline\n",
    "import numpy as np    # scientific computing \n",
    "import matplotlib.pyplot as plt   # plotting and visualisation\n",
    "# import keras and its libraries\n",
    "from keras.models import Sequential # Model type to be used\n",
    "from keras.layers import Dense, Activation, Dropout, Conv2D, MaxPooling2D, Flatten  # Making a model\n",
    "from keras.utils import np_utils  # NumPy related tools\n",
    "!pip install tensorboardcolab\n",
    "from tensorboardcolab import TensorBoardColab, TensorBoardColabCallback #Visulization of Accuracy and loss\n",
    "from keras.datasets import cifar10\n",
    "import random \n",
    "# to display tensorboard directly in the notebook\n",
    "%load_ext tensorboard"
   ]
  },
  {
   "cell_type": "markdown",
   "metadata": {
    "colab_type": "text",
    "id": "3AowkmHSGoUZ"
   },
   "source": [
    "Now fill in the following cells to make the notebook run:"
   ]
  },
  {
   "cell_type": "markdown",
   "metadata": {
    "colab_type": "text",
    "id": "69BPNc_1IgJK"
   },
   "source": [
    "__TASK__: download the cifar10 dataset (without transformations) and visualize it. Hint: you can find the cifar10 dataset in the keras datasets ([here](https://keras.io/datasets/))."
   ]
  },
  {
   "cell_type": "code",
   "execution_count": 0,
   "metadata": {
    "colab": {},
    "colab_type": "code",
    "id": "7RNYV7iNHDkQ"
   },
   "outputs": [],
   "source": [
    "(X_train, y_train), (X_val, y_val) = #ToDo\n",
    "\n",
    "plt.rcParams['figure.figsize'] = (5,5) # Make the figures a bit bigger\n",
    "\n",
    "for i in range(9):\n",
    "    plt.subplot(3,3,i+1)\n",
    "    num = random.randint(0, len(X_train))\n",
    "    plt.imshow(X_train[num], cmap='gray', interpolation='none')\n",
    "    plt.title(\"Class {}\".format(y_train[num]))\n",
    "    \n",
    "plt.tight_layout()"
   ]
  },
  {
   "cell_type": "markdown",
   "metadata": {
    "colab_type": "text",
    "id": "Aeik_nrLI2xO"
   },
   "source": [
    "__TASK__: now create a list transformations. Please note that in comparison to MNIST this dataset has 3 channels (RGB), and the proper way to normalize it would be to calculate mean and standard deviation for each channel separately.\n",
    "\n",
    "Hint: use the following values (calculated on the whole dataset) to normalize:\n",
    "\n",
    "`mean = [0.4914, 0.4822, 0.4465]`\n",
    "\n",
    "`std = [0.2470, 0.2435, 0.2616]`"
   ]
  },
  {
   "cell_type": "code",
   "execution_count": 0,
   "metadata": {
    "colab": {},
    "colab_type": "code",
    "id": "W2qK5koNH0RF"
   },
   "outputs": [],
   "source": [
    "X_train = #ToDo\n",
    "\n",
    "X_val = #ToDo"
   ]
  },
  {
   "cell_type": "markdown",
   "metadata": {
    "colab_type": "text",
    "id": "TXKkLZksMIu2"
   },
   "source": [
    "__TASK__: Now change the type of classes to the one-hot format"
   ]
  },
  {
   "cell_type": "code",
   "execution_count": 0,
   "metadata": {
    "colab": {},
    "colab_type": "code",
    "id": "5LAiQfvvI0V_"
   },
   "outputs": [],
   "source": [
    "y_train = #ToDo\n",
    "y_val = #ToDo"
   ]
  },
  {
   "cell_type": "markdown",
   "metadata": {
    "colab_type": "text",
    "id": "kicNlMkn1iX5"
   },
   "source": [
    "__TASK__: Create a tensorboard summary writer, start the tensorboard in your browser. Hint: You can take it from the script of \"Mnist_DL_Example_Keras\"."
   ]
  },
  {
   "cell_type": "code",
   "execution_count": 0,
   "metadata": {
    "colab": {},
    "colab_type": "code",
    "id": "0FMR_YSrOoP7"
   },
   "outputs": [],
   "source": [
    "tbcCNN=#ToDo"
   ]
  },
  {
   "cell_type": "markdown",
   "metadata": {
    "colab_type": "text",
    "id": "ayZeJWYj1tOe"
   },
   "source": [
    "__TASK__: write a model (or take one from the example Notebook) and train it for 10 epochs. Note: keep in mind that the input size is different for CIFAR."
   ]
  },
  {
   "cell_type": "code",
   "execution_count": 0,
   "metadata": {
    "colab": {},
    "colab_type": "code",
    "id": "pgzgJmasPvE2"
   },
   "outputs": [],
   "source": [
    "modelCNN = Sequential([\n",
    "    \n",
    "    #ToDo\n",
    "])\n",
    "modelCNN.summary()"
   ]
  },
  {
   "cell_type": "code",
   "execution_count": 0,
   "metadata": {
    "colab": {},
    "colab_type": "code",
    "id": "Y-U8dhPyNgRT"
   },
   "outputs": [],
   "source": [
    "modelCNN.compile(#ToDo)\n",
    "\n",
    "modelCNN.fit(#ToDo)"
   ]
  },
  {
   "cell_type": "markdown",
   "metadata": {
    "colab_type": "text",
    "id": "xxKPbZE33tiF"
   },
   "source": [
    "__TASK__: Increase/decrease the number of layers in your architecture (can be\n",
    "either fully connected network or CNN) to get the best performance of\n",
    "your model.\n",
    "\n",
    "\n",
    "__TASK__: Change hyperparameters such as [dropout](https://pytorch.org/docs/stable/nn.html#dropout-layers),\n",
    "[learning rate](https://pytorch.org/docs/stable/optim.html), [optimization functions](https://pytorch.org/docs/stable/optim.html#algorithms), ... to reach to the best performance on this classification task.\n",
    "\n",
    "\n",
    "__TASK__: Compare all your models by using the Tensorboard."
   ]
  }
 ],
 "metadata": {
  "colab": {
   "include_colab_link": true,
   "name": "exercise_cifar_Keras.ipynb",
   "provenance": []
  },
  "kernelspec": {
   "display_name": "Python 3",
   "language": "python",
   "name": "python3"
  },
  "language_info": {
   "codemirror_mode": {
    "name": "ipython",
    "version": 3
   },
   "file_extension": ".py",
   "mimetype": "text/x-python",
   "name": "python",
   "nbconvert_exporter": "python",
   "pygments_lexer": "ipython3",
   "version": "3.6.8"
  }
 },
 "nbformat": 4,
 "nbformat_minor": 1
}
