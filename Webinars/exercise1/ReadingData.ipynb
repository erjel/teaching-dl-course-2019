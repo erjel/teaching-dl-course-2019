{
 "cells": [
  {
   "cell_type": "markdown",
   "metadata": {
    "colab_type": "text",
    "id": "view-in-github"
   },
   "source": [
    "<a href=\"https://colab.research.google.com/github/kreshuklab/teaching-dl-course-2019/blob/master/Webinars/exercise1/ReadingData.ipynb\" target=\"_parent\"><img src=\"https://colab.research.google.com/assets/colab-badge.svg\" alt=\"Open In Colab\"/></a>"
   ]
  },
  {
   "cell_type": "markdown",
   "metadata": {
    "colab_type": "text",
    "id": "3BDW5sY-dBnC"
   },
   "source": [
    "# Reading and saving data for a classification model\n",
    "In this notebook, we first will read images and their corresponding labels and then will wrap and save them in a single file on disk (or google drive). It helps us a lot later to avoid reading so much data each time when we are working with our models.\n",
    "We will use the python pickle module to wrap images in a single file. Any object in Python can be pickled so that it can be saved on disk. \n",
    "Pickling is a way to convert a python object (list, dict, etc.) into a character stream. The idea is that this character stream contains all the information necessary to reconstruct the object in another python script."
   ]
  },
  {
   "cell_type": "markdown",
   "metadata": {
    "colab_type": "text",
    "id": "M2QTJEh7bgal"
   },
   "source": [
    "# **Import necessary Libraries**"
   ]
  },
  {
   "cell_type": "code",
   "execution_count": 1,
   "metadata": {
    "colab": {},
    "colab_type": "code",
    "id": "LnStabZOSK0O"
   },
   "outputs": [],
   "source": [
    "import numpy as np   # Package for scientific computing\n",
    "import matplotlib.pyplot as plt # 2D plotting library\n",
    "import os     # Using operating system\n",
    "# NOTE: in the tutorials we used cv2 for reading images and resizing.\n",
    "# we replaced this with imageio.imread and skimage.transform.resize\n",
    "# because opencv can cause some dependency issues\n",
    "#from imageio import imread\n",
    "#from skimage.transform import resize\n",
    "import cv2    # Computer vision and machine learning software library\n",
    "from tqdm import tqdm   # Progress bar library\n",
    "import random  # Generating Random Numbers\n",
    "import pickle # Serializing and de-serializing a Python object structure\n",
    "from os.path import join as pj # for path ops"
   ]
  },
  {
   "cell_type": "markdown",
   "metadata": {
    "colab_type": "text",
    "id": "KIS7BobWfDEK"
   },
   "source": [
    "# **Make a connection between colab and your google drive Where your data are saved.**"
   ]
  },
  {
   "cell_type": "code",
   "execution_count": 6,
   "metadata": {
    "colab": {},
    "colab_type": "code",
    "id": "NY_WCus6Vy4l"
   },
   "outputs": [],
   "source": [
    "# Not needed since I run it on local machine\n",
    "\"\"\"\n",
    "from google.colab import drive\n",
    "root = '/content/gdrive/'\n",
    "drive.mount( root )\n",
    "\"\"\"\n",
    "root = './'"
   ]
  },
  {
   "cell_type": "code",
   "execution_count": 7,
   "metadata": {
    "colab": {},
    "colab_type": "code",
    "id": "xKiPEN9K3L3G"
   },
   "outputs": [
    {
     "data": {
      "text/plain": [
       "[]"
      ]
     },
     "execution_count": 7,
     "metadata": {},
     "output_type": "execute_result"
    }
   ],
   "source": [
    "# create permanent directory in gdrive\n",
    "cifar_dir_path = r'drive_ml/2020_ml_school/02_cifar/'\n",
    "os.makedirs(cifar_dir_path, exist_ok=True)\n",
    "os.listdir(root+cifar_dir_path)"
   ]
  },
  {
   "cell_type": "markdown",
   "metadata": {
    "colab_type": "text",
    "id": "4K-UfXaQbvZX"
   },
   "source": [
    "# **Reading and saving data** \n",
    "What we need is a training data directory (and/or validation data directory)  containing one subdirectory per image class, filled with images. For example: \n",
    "\n",
    "```\n",
    "Animals/\n",
    "    train/\n",
    "        dogs/\n",
    "            dog001.jpg\n",
    "            dog002.jpg\n",
    "            ...\n",
    "        cats/\n",
    "            cat001.jpg\n",
    "            cat002.jpg\n",
    "            ...\n",
    "```\n",
    "\n"
   ]
  },
  {
   "cell_type": "markdown",
   "metadata": {
    "colab_type": "text",
    "id": "--upd4Y4znu-"
   },
   "source": [
    "If you don't have your own data now, you could use the [cifar10](https://www.cs.toronto.edu/~kriz/cifar.html). For this you would have to run the following cell:"
   ]
  },
  {
   "cell_type": "code",
   "execution_count": 8,
   "metadata": {
    "colab": {},
    "colab_type": "code",
    "id": "YbPhLihUz5g4"
   },
   "outputs": [
    {
     "name": "stdout",
     "output_type": "stream",
     "text": [
      "cifar-10-python.tar.gz does not exists.\n",
      "Downloading cifar-10-python.tar.gz\n",
      "167kKB [00:10, 16.1kKB/s]                                                       \n",
      "Saving train images: 100%|███████████████| 50000/50000 [00:59<00:00, 835.58it/s]\n",
      "Saving test images: 100%|████████████████| 10000/10000 [00:10<00:00, 983.89it/s]\n"
     ]
    }
   ],
   "source": [
    "\n",
    "#!pip install cifar2png\n",
    "!cifar2png cifar10 cifar10 #here non-persistent directory will be used to download data (it is first parameter of cifar2png binary)"
   ]
  },
  {
   "cell_type": "code",
   "execution_count": 9,
   "metadata": {
    "colab": {},
    "colab_type": "code",
    "id": "0MkRv0jlSQAv"
   },
   "outputs": [
    {
     "name": "stdout",
     "output_type": "stream",
     "text": [
      "['frog', 'airplane', 'horse', 'truck', 'cat', 'deer', 'automobile', 'dog', 'bird', 'ship']\n"
     ]
    }
   ],
   "source": [
    "# DATADIR = cifar_dir_path   # You have to replace the directory of you images instead of \"PathToYourDirectory\".\n",
    "                                                        # For example \"/content/gdrive/My Drive/Animals/train\"\n",
    "DATADIR = \"cifar10/train\"     # for people working on cifar the data is stored locally\n",
    "\n",
    "CATEGORIES = os.listdir(DATADIR)\n",
    "print(CATEGORIES)"
   ]
  },
  {
   "cell_type": "code",
   "execution_count": 10,
   "metadata": {
    "colab": {},
    "colab_type": "code",
    "id": "h9qrfUw9ZFuh"
   },
   "outputs": [],
   "source": [
    "training_data = []\n",
    "IMG_SIZE_H=32 # you need to set up a numerical value here. Useful to resize to normalize data size\n",
    "IMG_SIZE_W=32 # you need to set up a numerical value here. Useful to resize to normalize data size\n",
    "def create_training_data():\n",
    "    for category in CATEGORIES:  # do plants and weeds\n",
    "\n",
    "        path = os.path.join(DATADIR,category)  # create path to plants and weeds\n",
    "        class_num = CATEGORIES.index(category)  # get the classification  (0 or a 1). 0=plants 1=weeds\n",
    "\n",
    "        for img in tqdm(os.listdir(path)):  # iterate over each image per plants and weeds\n",
    "        \n",
    "            img_array = cv2.imread(os.path.join(path,img))  # convert to array \n",
    "            new_array = cv2.resize(img_array, (IMG_SIZE_H, IMG_SIZE_W))  # resize to normalize data size\n",
    "            training_data.append([new_array, class_num])  # add this to our training_data"
   ]
  },
  {
   "cell_type": "code",
   "execution_count": 11,
   "metadata": {
    "colab": {},
    "colab_type": "code",
    "id": "wqQCG_kabahR"
   },
   "outputs": [
    {
     "name": "stderr",
     "output_type": "stream",
     "text": [
      "100%|██████████| 5000/5000 [00:01<00:00, 3704.37it/s]\n",
      "100%|██████████| 5000/5000 [00:01<00:00, 3857.12it/s]\n",
      "100%|██████████| 5000/5000 [00:01<00:00, 3946.23it/s]\n",
      "100%|██████████| 5000/5000 [00:01<00:00, 3781.53it/s]\n",
      "100%|██████████| 5000/5000 [00:01<00:00, 3723.22it/s]\n",
      "100%|██████████| 5000/5000 [00:01<00:00, 3792.04it/s]\n",
      "100%|██████████| 5000/5000 [00:01<00:00, 3804.77it/s]\n",
      "100%|██████████| 5000/5000 [00:01<00:00, 3753.26it/s]\n",
      "100%|██████████| 5000/5000 [00:01<00:00, 3587.48it/s]\n",
      "100%|██████████| 5000/5000 [00:01<00:00, 3222.04it/s]"
     ]
    },
    {
     "name": "stdout",
     "output_type": "stream",
     "text": [
      "50000\n"
     ]
    },
    {
     "name": "stderr",
     "output_type": "stream",
     "text": [
      "\n"
     ]
    }
   ],
   "source": [
    "create_training_data()  # Calling the function for reading images and labels\n",
    "print(len(training_data)) # Printing the size of the database"
   ]
  },
  {
   "cell_type": "markdown",
   "metadata": {
    "colab_type": "text",
    "id": "--na-6HMb9Lf"
   },
   "source": [
    "# **Preparation of data for deeplearning**"
   ]
  },
  {
   "cell_type": "code",
   "execution_count": 12,
   "metadata": {
    "colab": {},
    "colab_type": "code",
    "id": "rgbO6BszcCM_"
   },
   "outputs": [
    {
     "name": "stdout",
     "output_type": "stream",
     "text": [
      "(50000, 32, 32, 3)\n"
     ]
    }
   ],
   "source": [
    "random.shuffle(training_data)   # Shuffling data \n",
    "X = []  # An Array for images\n",
    "y = []  # An Array for labels\n",
    "\n",
    "for features,label in training_data:   # Seperation of iamegs and labels\n",
    "    X.append(features)\n",
    "    y.append(label)\n",
    "print(np.array(X).shape) # Print the size of the database"
   ]
  },
  {
   "cell_type": "code",
   "execution_count": 13,
   "metadata": {
    "colab": {},
    "colab_type": "code",
    "id": "z6eNye7Ecl-J"
   },
   "outputs": [
    {
     "name": "stdout",
     "output_type": "stream",
     "text": [
      "(50000, 32, 32, 3)\n"
     ]
    }
   ],
   "source": [
    "X = np.array(X).reshape(-1, IMG_SIZE_H, IMG_SIZE_W, 3)  # Reshape data in a form that is suitable for keras\n",
    "print(X.shape) # Print the size of the database"
   ]
  },
  {
   "cell_type": "markdown",
   "metadata": {
    "colab_type": "text",
    "id": "iIjKMSy4ydIR"
   },
   "source": [
    "# **Visualisation and Saving**"
   ]
  },
  {
   "cell_type": "code",
   "execution_count": 14,
   "metadata": {
    "colab": {},
    "colab_type": "code",
    "id": "qgM21lmdya9D"
   },
   "outputs": [
    {
     "data": {
      "image/png": "[encoded data removed]",
      "text/plain": [
       "<Figure size 432x288 with 3 Axes>"
      ]
     },
     "metadata": {
      "needs_background": "light"
     },
     "output_type": "display_data"
    }
   ],
   "source": [
    "# plot 3 images as gray scale\n",
    "plt.subplot(131)\n",
    "plt.imshow(X[0,:,:,0], cmap=plt.get_cmap('gray'))\n",
    "plt.subplot(132)\n",
    "plt.imshow(X[1,:,:,0], cmap=plt.get_cmap('gray'))\n",
    "plt.subplot(133)\n",
    "plt.imshow(X[1,:,:,1], cmap=plt.get_cmap('gray')) #CIFAR data contains 3 channels, here we display 2nd channel for 1st image\n",
    "# show the plot\n",
    "plt.show()"
   ]
  },
  {
   "cell_type": "code",
   "execution_count": 15,
   "metadata": {
    "colab": {},
    "colab_type": "code",
    "id": "dlNKV8fscwlG"
   },
   "outputs": [],
   "source": [
    "fn_X = \"X.pickle\"\n",
    "fn_Y = \"Y.pickle\"\n",
    "\n",
    "pickle_out = open(root+cifar_dir_path+fn_X,\"wb\") # wrapping up images # You have to replace the directory of you images instead of \"PathToSaveTheFile\".\n",
    "                                                        # For example \"/content/gdrive/My Drive/MyFolder/X.pickle\"\n",
    "pickle.dump(X, pickle_out)\n",
    "pickle_out.close()\n",
    "\n",
    "pickle_out = open(root+cifar_dir_path+fn_Y,\"wb\") # wrapping up labels # You have to replace the directory of you images instead of \"PathToSaveTheFile\".\n",
    "                                                        # For example \"/content/gdrive/My Drive/MyFolder/y.pickle\"\n",
    "pickle.dump(y, pickle_out)\n",
    "pickle_out.close()"
   ]
  },
  {
   "cell_type": "code",
   "execution_count": 17,
   "metadata": {},
   "outputs": [
    {
     "name": "stdout",
     "output_type": "stream",
     "text": [
      "test  train\r\n"
     ]
    }
   ],
   "source": [
    "!ls cifar10"
   ]
  },
  {
   "cell_type": "code",
   "execution_count": null,
   "metadata": {},
   "outputs": [],
   "source": []
  }
 ],
 "metadata": {
  "accelerator": "GPU",
  "colab": {
   "include_colab_link": true,
   "name": "ReadingData.ipynb",
   "provenance": []
  },
  "kernelspec": {
   "display_name": "Python 3",
   "language": "python",
   "name": "python3"
  },
  "language_info": {
   "codemirror_mode": {
    "name": "ipython",
    "version": 3
   },
   "file_extension": ".py",
   "mimetype": "text/x-python",
   "name": "python",
   "nbconvert_exporter": "python",
   "pygments_lexer": "ipython3",
   "version": "3.6.8"
  }
 },
 "nbformat": 4,
 "nbformat_minor": 1
}
